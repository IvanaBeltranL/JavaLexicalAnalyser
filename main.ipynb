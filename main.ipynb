{
 "cells": [
  {
   "cell_type": "code",
   "execution_count": 1,
   "metadata": {},
   "outputs": [],
   "source": [
    "import re\n",
    "from short import countShort\n",
    "from long import countLong\n",
    "from int import countInt\n",
    "from boolean import countBool\n",
    "from byte import countByte\n",
    "from char import countChar\n",
    "from DoubleFloat import countFloat, countDouble\n",
    "from String import countString"
   ]
  },
  {
   "cell_type": "code",
   "execution_count": 2,
   "metadata": {},
   "outputs": [],
   "source": [
    "file = open(\"java-regex.txt\", \"r\")\n",
    "content = file.read()\n",
    "lines = content.split(';')\n",
    "file.close()"
   ]
  },
  {
   "cell_type": "code",
   "execution_count": 27,
   "metadata": {},
   "outputs": [
    {
     "output_type": "stream",
     "name": "stdout",
     "text": [
      "[' int a, b, c', ' int d = 20', ' int[] intArr = {1, 2, 3, 4, 1, 2, 3}', ' String str1, str2, str3', ' String str4 = \"Cadena 4\"', ' String[] strArr = {\"cd1\", \"cd2\", \"cd3\"}', ' boolean bl1, bl2, bl3', ' boolean bl4 = true', ' boolean[] blArr = {true, false, true}', \" char ch1 = 'A'\", \" char[] chArr = {'A', 'B', 'C'}\", ' byte byt1 = 127', ' byte[] bytArr = {1, 2, 3, 4, 1, 2, 3}', ' short shrt1 = 8', ' short[] shrtArr = {5, 6, 7, 8}', ' long lng1 = 1000000l', ' long[] longArr = {10000l, 20000l, 30000l, 40000l}', ' float flt1 = 90f', ' float[] floatArr = {10f, 20f, 30f, 40f}', ' double dbl1 = 10.10', ' double[] dblArr = {1.1, 2.2, 3.3}', '']\n"
     ]
    }
   ],
   "source": [
    "print(lines)"
   ]
  },
  {
   "cell_type": "code",
   "execution_count": 28,
   "metadata": {},
   "outputs": [
    {
     "output_type": "execute_result",
     "data": {
      "text/plain": [
       "''"
      ]
     },
     "metadata": {},
     "execution_count": 28
    }
   ],
   "source": [
    "lines.pop()"
   ]
  },
  {
   "cell_type": "code",
   "execution_count": 29,
   "metadata": {},
   "outputs": [],
   "source": [
    "lines = [x.lstrip() for x in lines]"
   ]
  },
  {
   "cell_type": "code",
   "execution_count": 30,
   "metadata": {},
   "outputs": [
    {
     "output_type": "execute_result",
     "data": {
      "text/plain": [
       "['int a, b, c',\n",
       " 'int d = 20',\n",
       " 'int[] intArr = {1, 2, 3, 4, 1, 2, 3}',\n",
       " 'String str1, str2, str3',\n",
       " 'String str4 = \"Cadena 4\"',\n",
       " 'String[] strArr = {\"cd1\", \"cd2\", \"cd3\"}',\n",
       " 'boolean bl1, bl2, bl3',\n",
       " 'boolean bl4 = true',\n",
       " 'boolean[] blArr = {true, false, true}',\n",
       " \"char ch1 = 'A'\",\n",
       " \"char[] chArr = {'A', 'B', 'C'}\",\n",
       " 'byte byt1 = 127',\n",
       " 'byte[] bytArr = {1, 2, 3, 4, 1, 2, 3}',\n",
       " 'short shrt1 = 8',\n",
       " 'short[] shrtArr = {5, 6, 7, 8}',\n",
       " 'long lng1 = 1000000l',\n",
       " 'long[] longArr = {10000l, 20000l, 30000l, 40000l}',\n",
       " 'float flt1 = 90f',\n",
       " 'float[] floatArr = {10f, 20f, 30f, 40f}',\n",
       " 'double dbl1 = 10.10',\n",
       " 'double[] dblArr = {1.1, 2.2, 3.3}']"
      ]
     },
     "metadata": {},
     "execution_count": 30
    }
   ],
   "source": [
    "lines"
   ]
  },
  {
   "cell_type": "code",
   "execution_count": 31,
   "metadata": {},
   "outputs": [],
   "source": [
    "counters = {\n",
    "    \"int\": (0,0),\n",
    "    \"int[]\": (0,0),\n",
    "    \"String\": (0,0),\n",
    "    \"String[]\": (0,0),\n",
    "    \"boolean\": (0,0),\n",
    "    \"boolean[]\": (0,0),\n",
    "    \"char\": (0,0),\n",
    "    \"char[]\": (0,0),\n",
    "    \"byte\": (0,0),\n",
    "    \"byte[]\": (0,0),\n",
    "    \"short\": (0,0),\n",
    "    \"short[]\": (0,0),\n",
    "    \"long\": (0,0),\n",
    "    \"long[]\": (0,0),\n",
    "    \"float\": (0,0),\n",
    "    \"float[]\": (0,0),\n",
    "    \"double\": (0,0),\n",
    "    \"double[]\": (0,0)\n",
    "}"
   ]
  },
  {
   "cell_type": "code",
   "execution_count": 32,
   "metadata": {},
   "outputs": [],
   "source": [
    "#def countInt(line):\n",
    " #   return len(line), len(line.split())"
   ]
  },
  {
   "cell_type": "code",
   "execution_count": 33,
   "metadata": {},
   "outputs": [],
   "source": [
    "def switch(label, line):\n",
    "    switcher={\n",
    "        \"int\": (lambda x: countInt(x))(line),\n",
    "        #\"int[]\": (lambda x: countInt(x))(line),\n",
    "        #\"String\": (lambda x: countString(x))(line),\n",
    "        #\"String[]\": (lambda x: countString(x))(line),\n",
    "        #\"boolean\": (lambda x: countBoolean(x))(line),\n",
    "        #\"boolean[]\": (lambda x: countBoolean(x))(line),\n",
    "        #\"char\": (lambda x: countChar(x))(line),\n",
    "        #\"char[]\": (lambda x: countChar(x))(line),\n",
    "        #\"byte\": (lambda x: countByte(x))(line),\n",
    "        #\"byte[]\": (lambda x: countByte(x))(line),\n",
    "        #\"short\": (lambda x: countShort(x))(line),\n",
    "        #\"short[]\": (lambda x: countShortx))(line),\n",
    "        #\"long\": (lambda x: countLong(x))(line),\n",
    "        #\"long[]\": (lambda x: countLong(x))(line),\n",
    "        #\"float\": (lambda x: countFloat(x))(line),\n",
    "        #\"float[]\": (lambda x: countFloat(x))(line),\n",
    "        #\"double\": (lambda x: countDouble(x))(line),\n",
    "        #\"double[]\": (lambda x: countDouble(x))(line),\n",
    "        }\n",
    "    return switcher.get(label,(100, 100))"
   ]
  },
  {
   "cell_type": "code",
   "execution_count": 3,
   "metadata": {},
   "outputs": [
    {
     "output_type": "stream",
     "name": "stdout",
     "text": [
      "-------------   ['int', 'a,', 'b,', 'c'] line:   int a, b, c   -------------\ncountInt:  (False, -1, -1)\ncountString:  (False, -1, -1)\ncountBool:  (False, -1, -1)\ncountDouble:  (False, -1, -1)\ncountFloat:  (False, -1, -1)\ncountChar:  (False, -1, -1)\ncountByte:  (False, -1, -1)\ncountShort:  (False, -1, -1)\ncountLong:  (False, -1, -1)\n\n-------------   ['int', 'd', '=', '20'] line:   int d = 20   -------------\ncountInt:  (False, -1, -1)\ncountString:  (False, -1, -1)\ncountBool:  (False, -1, -1)\ncountDouble:  (False, -1, -1)\ncountFloat:  (False, -1, -1)\ncountChar:  (False, -1, -1)\ncountByte:  (False, -1, -1)\ncountShort:  (False, -1, -1)\ncountLong:  (False, -1, -1)\n\n-------------   ['int[]', 'intArr', '=', '{1,', '2,', '3,', '4,', '1,', '2,', '3}'] line:   int[] intArr = {1, 2, 3, 4, 1, 2, 3}   -------------\ncountInt:  (False, -1, -1)\ncountString:  (False, -1, -1)\ncountBool:  (False, -1, -1)\ncountDouble:  (False, -1, -1)\ncountFloat:  (False, -1, -1)\ncountChar:  (False, -1, -1)\ncountByte:  (False, -1, -1)\ncountShort:  (False, -1, -1)\ncountLong:  (False, -1, -1)\n\n-------------   ['String', 'str1,', 'str2,', 'str3'] line:   String str1, str2, str3   -------------\ncountInt:  (False, -1, -1)\ncountString:  (False, 3, 0)\ncountBool:  (False, -1, -1)\ncountDouble:  (False, -1, -1)\ncountFloat:  (False, -1, -1)\ncountChar:  (False, -1, -1)\ncountByte:  (False, -1, -1)\ncountShort:  (False, -1, -1)\ncountLong:  (False, -1, -1)\n\n-------------   ['String', 'str4', '=', '\"Cadena', '4\"'] line:   String str4 = \"Cadena 4\"   -------------\ncountInt:  (False, -1, -1)\ncountString:  (False, 0, 1)\ncountBool:  (False, -1, -1)\ncountDouble:  (False, -1, -1)\ncountFloat:  (False, -1, -1)\ncountChar:  (False, -1, -1)\ncountByte:  (False, -1, -1)\ncountShort:  (False, -1, -1)\ncountLong:  (False, -1, -1)\n\n-------------   ['String[]', 'strArr', '=', '{\"cd1\",', '\"cd2\",', '\"cd3\"}'] line:   String[] strArr = {\"cd1\", \"cd2\", \"cd3\"}   -------------\ncountInt:  (False, -1, -1)\ncountString:  (True, 0, 1)\ncountBool:  (False, -1, -1)\ncountDouble:  (False, -1, -1)\ncountFloat:  (False, -1, -1)\ncountChar:  (False, -1, -1)\ncountByte:  (False, -1, -1)\ncountShort:  (False, -1, -1)\ncountLong:  (False, -1, -1)\n\n-------------   ['boolean', 'bl1,', 'bl2,', 'bl3'] line:   boolean bl1, bl2, bl3   -------------\ncountInt:  (False, -1, -1)\ncountString:  (False, -1, -1)\ncountBool:  (False, 3, 0)\ncountDouble:  (False, -1, -1)\ncountFloat:  (False, -1, -1)\ncountChar:  (False, -1, -1)\ncountByte:  (False, -1, -1)\ncountShort:  (False, -1, -1)\ncountLong:  (False, -1, -1)\n\n-------------   ['boolean', 'bl4', '=', 'true'] line:   boolean bl4 = true   -------------\ncountInt:  (False, -1, -1)\ncountString:  (False, -1, -1)\ncountBool:  (False, 0, 1)\ncountDouble:  (False, -1, -1)\ncountFloat:  (False, -1, -1)\ncountChar:  (False, -1, -1)\ncountByte:  (False, -1, -1)\ncountShort:  (False, -1, -1)\ncountLong:  (False, -1, -1)\n\n-------------   ['boolean[]', 'blArr', '=', '{true,', 'false,', 'true}'] line:   boolean[] blArr = {true, false, true}   -------------\ncountInt:  (False, -1, -1)\ncountString:  (False, -1, -1)\ncountBool:  (True, 0, 1)\ncountDouble:  (False, -1, -1)\ncountFloat:  (False, -1, -1)\ncountChar:  (False, -1, -1)\ncountByte:  (False, -1, -1)\ncountShort:  (False, -1, -1)\ncountLong:  (False, -1, -1)\n\n-------------   ['char', 'ch1', '=', \"'A'\"] line:   char ch1 = 'A'   -------------\ncountInt:  (False, -1, -1)\ncountString:  (False, -1, -1)\ncountBool:  (False, -1, -1)\ncountDouble:  (False, -1, -1)\ncountFloat:  (False, -1, -1)\ncountChar:  (False, 0, 1)\ncountByte:  (False, -1, -1)\ncountShort:  (False, -1, -1)\ncountLong:  (False, -1, -1)\n\n-------------   ['char[]', 'chArr', '=', \"{'A',\", \"'B',\", \"'C'}\"] line:   char[] chArr = {'A', 'B', 'C'}   -------------\ncountInt:  (False, -1, -1)\ncountString:  (False, -1, -1)\ncountBool:  (False, -1, -1)\ncountDouble:  (False, -1, -1)\ncountFloat:  (False, -1, -1)\ncountChar:  (True, 0, 1)\ncountByte:  (False, -1, -1)\ncountShort:  (False, -1, -1)\ncountLong:  (False, -1, -1)\n\n-------------   ['byte', 'byt1', '=', '127'] line:   byte byt1 = 127   -------------\ncountInt:  (False, -1, -1)\ncountString:  (False, -1, -1)\ncountBool:  (False, -1, -1)\ncountDouble:  (False, -1, -1)\ncountFloat:  (False, -1, -1)\ncountChar:  (False, -1, -1)\ncountByte:  (False, 0, 1)\ncountShort:  (False, -1, -1)\ncountLong:  (False, -1, -1)\n\n-------------   ['byte[]', 'bytArr', '=', '{1,', '2,', '3,', '4,', '1,', '2,', '3}'] line:   byte[] bytArr = {1, 2, 3, 4, 1, 2, 3}   -------------\ncountInt:  (False, -1, -1)\ncountString:  (False, -1, -1)\ncountBool:  (False, -1, -1)\ncountDouble:  (False, -1, -1)\ncountFloat:  (False, -1, -1)\ncountChar:  (False, -1, -1)\ncountByte:  (True, 0, 1)\ncountShort:  (False, -1, -1)\ncountLong:  (False, -1, -1)\n\n-------------   ['short', 'shrt1', '=', '8'] line:   short shrt1 = 8   -------------\ncountInt:  (False, -1, -1)\ncountString:  (False, -1, -1)\ncountBool:  (False, -1, -1)\ncountDouble:  (False, -1, -1)\ncountFloat:  (False, -1, -1)\ncountChar:  (False, -1, -1)\ncountByte:  (False, -1, -1)\ncountShort:  (False, 0, 1)\ncountLong:  (False, -1, -1)\n\n-------------   ['short[]', 'shrtArr', '=', '{5,', '6,', '7,', '8}'] line:   short[] shrtArr = {5, 6, 7, 8}   -------------\ncountInt:  (False, -1, -1)\ncountString:  (False, -1, -1)\ncountBool:  (False, -1, -1)\ncountDouble:  (False, -1, -1)\ncountFloat:  (False, -1, -1)\ncountChar:  (False, -1, -1)\ncountByte:  (False, -1, -1)\ncountShort:  (True, 0, 1)\ncountLong:  (False, -1, -1)\n\n-------------   ['long', 'lng1', '=', '1000000l'] line:   long lng1 = 1000000l   -------------\ncountInt:  (False, -1, -1)\ncountString:  (False, -1, -1)\ncountBool:  (False, -1, -1)\ncountDouble:  (False, -1, -1)\ncountFloat:  (False, -1, -1)\ncountChar:  (False, -1, -1)\ncountByte:  (False, -1, -1)\ncountShort:  (False, -1, -1)\ncountLong:  (False, -1, -1)\n\n-------------   ['long[]', 'longArr', '=', '{10000l,', '20000l,', '30000l,', '40000l}'] line:   long[] longArr = {10000l, 20000l, 30000l, 40000l}   -------------\ncountInt:  (False, -1, -1)\ncountString:  (False, -1, -1)\ncountBool:  (False, -1, -1)\ncountDouble:  (False, -1, -1)\ncountFloat:  (False, -1, -1)\ncountChar:  (False, -1, -1)\ncountByte:  (False, -1, -1)\ncountShort:  (False, -1, -1)\ncountLong:  (False, -1, -1)\n\n-------------   ['float', 'flt1', '=', '90f'] line:   float flt1 = 90f   -------------\ncountInt:  (False, -1, -1)\ncountString:  (False, -1, -1)\ncountBool:  (False, -1, -1)\ncountDouble:  (False, -1, -1)\ncountFloat:  (False, 1, 1)\ncountChar:  (False, -1, -1)\ncountByte:  (False, -1, -1)\ncountShort:  (False, -1, -1)\ncountLong:  (False, -1, -1)\n\n-------------   ['float[]', 'floatArr', '=', '{10f,', '20f,', '30f,', '40f}'] line:   float[] floatArr = {10f, 20f, 30f, 40f}   -------------\ncountInt:  (False, -1, -1)\ncountString:  (False, -1, -1)\ncountBool:  (False, -1, -1)\ncountDouble:  (False, -1, -1)\ncountFloat:  (False, -1, -1)\ncountChar:  (False, -1, -1)\ncountByte:  (False, -1, -1)\ncountShort:  (False, -1, -1)\ncountLong:  (False, -1, -1)\n\n-------------   ['double', 'dbl1', '=', '10.10'] line:   double dbl1 = 10.10   -------------\ncountInt:  (False, -1, -1)\ncountString:  (False, -1, -1)\ncountBool:  (False, -1, -1)\ncountDouble:  (False, 1, 1)\ncountFloat:  (False, -1, -1)\ncountChar:  (False, -1, -1)\ncountByte:  (False, -1, -1)\ncountShort:  (False, -1, -1)\ncountLong:  (False, -1, -1)\n\n-------------   ['double[]', 'dblArr', '=', '{1.1,', '2.2,', '3.3}'] line:   double[] dblArr = {1.1, 2.2, 3.3}   -------------\ncountInt:  (False, -1, -1)\ncountString:  (False, -1, -1)\ncountBool:  (False, -1, -1)\ncountDouble:  (False, -1, -1)\ncountFloat:  (False, -1, -1)\ncountChar:  (False, -1, -1)\ncountByte:  (False, -1, -1)\ncountShort:  (False, -1, -1)\ncountLong:  (False, -1, -1)\n\n-------------   [] line:     -------------\ncountInt:  (False, -1, -1)\ncountString:  (False, -1, -1)\ncountBool:  (False, -1, -1)\ncountDouble:  (False, -1, -1)\ncountFloat:  (False, -1, -1)\ncountChar:  (False, -1, -1)\ncountByte:  (False, -1, -1)\ncountShort:  (False, -1, -1)\ncountLong:  (False, -1, -1)\n\n"
     ]
    }
   ],
   "source": [
    "for line in lines:\n",
    "    print(\"-------------  \", line.split(), \"line: \", line, \"  -------------\")\n",
    "    line = line \n",
    "    #print(line.split()[0])\n",
    "    print(\"countInt: \", countInt(line))\n",
    "    print(\"countString: \", countString(line))\n",
    "    print(\"countBool: \", countBool(line))\n",
    "    print(\"countDouble: \", countDouble(line))\n",
    "    print(\"countFloat: \", countFloat(line))\n",
    "    print(\"countChar: \", countChar(line))\n",
    "    print(\"countByte: \", countByte(line))\n",
    "    print(\"countShort: \", countShort(line))\n",
    "    print(\"countLong: \", countLong(line))\n",
    "    print(\"\")\n",
    "    #print( switch( line.split()[0], line ) )    \n",
    "    #counters[ line.split()[0] ] += switch( line.split()[0], line)\n",
    "    #counters[ line.split()[0] ] = tuple(map(sum,zip(counters[ line.split()[0] ], switch( line.split()[0], line))))\n",
    "    #print(line.split()[0], line)"
   ]
  },
  {
   "cell_type": "code",
   "execution_count": 34,
   "metadata": {},
   "outputs": [
    {
     "output_type": "error",
     "ename": "Error",
     "evalue": "MemoryError",
     "traceback": [
      "Error: MemoryError",
      "at b.parseConnectInfo (c:\\Users\\aalex\\.vscode\\extensions\\ms-toolsai.jupyter-2021.2.603412351\\out\\client\\extension.js:49:484797)",
      "at b.connectToLocal (c:\\Users\\aalex\\.vscode\\extensions\\ms-toolsai.jupyter-2021.2.603412351\\out\\client\\extension.js:49:485400)",
      "at async b.connect (c:\\Users\\aalex\\.vscode\\extensions\\ms-toolsai.jupyter-2021.2.603412351\\out\\client\\extension.js:49:483277)",
      "at async b.startDebugSession (c:\\Users\\aalex\\.vscode\\extensions\\ms-toolsai.jupyter-2021.2.603412351\\out\\client\\extension.js:49:482424)",
      "at async f.submitCode (c:\\Users\\aalex\\.vscode\\extensions\\ms-toolsai.jupyter-2021.2.603412351\\out\\client\\extension.js:32:598348)",
      "at async f.handleRunByLine (c:\\Users\\aalex\\.vscode\\extensions\\ms-toolsai.jupyter-2021.2.603412351\\out\\client\\extension.js:9:328492)"
     ]
    }
   ],
   "source": [
    "counters"
   ]
  },
  {
   "cell_type": "code",
   "execution_count": 162,
   "metadata": {},
   "outputs": [
    {
     "data": {
      "text/plain": [
       "(False, 5, 2)"
      ]
     },
     "execution_count": 162,
     "metadata": {},
     "output_type": "execute_result"
    }
   ],
   "source": [
    "test = (False, 5, 2)\n",
    "test"
   ]
  },
  {
   "cell_type": "code",
   "execution_count": 146,
   "metadata": {},
   "outputs": [
    {
     "data": {
      "text/plain": [
       "True"
      ]
     },
     "execution_count": 146,
     "metadata": {},
     "output_type": "execute_result"
    }
   ],
   "source": [
    "test[0]"
   ]
  },
  {
   "cell_type": "code",
   "execution_count": 151,
   "metadata": {},
   "outputs": [
    {
     "data": {
      "text/plain": [
       "(2, 3)"
      ]
     },
     "execution_count": 151,
     "metadata": {},
     "output_type": "execute_result"
    }
   ],
   "source": [
    "test2 = test[1:]\n",
    "test2"
   ]
  },
  {
   "cell_type": "code",
   "execution_count": 163,
   "metadata": {},
   "outputs": [],
   "source": [
    "if test[0] == True:\n",
    "    counters[ 'int[]' ] = tuple(map(sum,zip(counters[ 'int[]' ], test[1:] )))\n",
    "else:\n",
    "    counters[ 'int' ] = tuple(map(sum,zip(counters[ 'int' ], test[1:] )))"
   ]
  },
  {
   "cell_type": "code",
   "execution_count": 164,
   "metadata": {},
   "outputs": [
    {
     "data": {
      "text/plain": [
       "{'int': (5, 2),\n",
       " 'int[]': (2, 3),\n",
       " 'String': (0, 0),\n",
       " 'String[]': (0, 0),\n",
       " 'boolean': (0, 0),\n",
       " 'boolean[]': (0, 0),\n",
       " 'char': (0, 0),\n",
       " 'char[]': (0, 0),\n",
       " 'byte': (0, 0),\n",
       " 'byte[]': (0, 0),\n",
       " 'short': (0, 0),\n",
       " 'short[]': (0, 0),\n",
       " 'long': (0, 0),\n",
       " 'long[]': (0, 0),\n",
       " 'float': (0, 0),\n",
       " 'float[]': (0, 0),\n",
       " 'double': (0, 0),\n",
       " 'double[]': (0, 0)}"
      ]
     },
     "execution_count": 164,
     "metadata": {},
     "output_type": "execute_result"
    }
   ],
   "source": [
    "counters"
   ]
  },
  {
   "cell_type": "code",
   "execution_count": 24,
   "metadata": {},
   "outputs": [
    {
     "output_type": "execute_result",
     "data": {
      "text/plain": [
       "(False, 1, 1)"
      ]
     },
     "metadata": {},
     "execution_count": 24
    }
   ],
   "source": [
    "countFloat(\"float flt1 = 90f\")"
   ]
  },
  {
   "cell_type": "code",
   "execution_count": null,
   "metadata": {},
   "outputs": [],
   "source": []
  }
 ],
 "metadata": {
  "kernelspec": {
   "name": "python3",
   "display_name": "Python 3.8.5 64-bit",
   "metadata": {
    "interpreter": {
     "hash": "86774b5e40b309ed1284b5bd85251271fd9fbf768931506609b021a988f4d005"
    }
   }
  },
  "language_info": {
   "codemirror_mode": {
    "name": "ipython",
    "version": 3
   },
   "file_extension": ".py",
   "mimetype": "text/x-python",
   "name": "python",
   "nbconvert_exporter": "python",
   "pygments_lexer": "ipython3",
   "version": "3.8.5-final"
  }
 },
 "nbformat": 4,
 "nbformat_minor": 2
}