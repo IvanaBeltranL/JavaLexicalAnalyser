{
 "cells": [
  {
   "cell_type": "code",
   "execution_count": 36,
   "metadata": {},
   "outputs": [],
   "source": [
    "import re"
   ]
  },
  {
   "cell_type": "code",
   "execution_count": 125,
   "metadata": {},
   "outputs": [],
   "source": [
    "file = open(\"java-regex.txt\", \"r\")\n",
    "content = file.read()\n",
    "lines = content.split(';')\n",
    "file.close()"
   ]
  },
  {
   "cell_type": "code",
   "execution_count": 126,
   "metadata": {},
   "outputs": [
    {
     "name": "stdout",
     "output_type": "stream",
     "text": [
      "[' int a, b, c', ' int d = 20', ' int[] intArr = {1, 2, 3, 4, 1, 2, 3}', ' String str1, str2, str3', ' String str4 = \"Cadena 4\"', ' String[] strArr = {\"cd1\", \"cd2\", \"cd3\"}', ' boolean bl1, bl2, bl3', ' boolean bl4 = true', ' boolean[] blArr = {true, false, true}', \" char ch1 = 'A'\", \" char[] chArr = {'A', 'B', 'C'}\", ' byte byt1 = 127', ' byte[] bytArr = {1, 2, 3, 4, 1, 2, 3}', ' short shrt1 = 123', ' short[] shrtArr = {5, 6, 7, 8}', ' long lng1 = 1000000', ' long[] longArr = {10000, 20000, 30000, 40000}', ' float flt1 = 90', ' float[] floatArr = {10, 20, 30, 40}', ' double dbl1 = 10.10', ' double[] dblArr = {1.1, 2.2, 3.3}', '']\n"
     ]
    }
   ],
   "source": [
    "print(lines)"
   ]
  },
  {
   "cell_type": "code",
   "execution_count": 127,
   "metadata": {},
   "outputs": [
    {
     "data": {
      "text/plain": [
       "''"
      ]
     },
     "execution_count": 127,
     "metadata": {},
     "output_type": "execute_result"
    }
   ],
   "source": [
    "lines.pop()"
   ]
  },
  {
   "cell_type": "code",
   "execution_count": 128,
   "metadata": {},
   "outputs": [],
   "source": [
    "lines = [x.lstrip() for x in lines]"
   ]
  },
  {
   "cell_type": "code",
   "execution_count": 129,
   "metadata": {},
   "outputs": [
    {
     "data": {
      "text/plain": [
       "['int a, b, c',\n",
       " 'int d = 20',\n",
       " 'int[] intArr = {1, 2, 3, 4, 1, 2, 3}',\n",
       " 'String str1, str2, str3',\n",
       " 'String str4 = \"Cadena 4\"',\n",
       " 'String[] strArr = {\"cd1\", \"cd2\", \"cd3\"}',\n",
       " 'boolean bl1, bl2, bl3',\n",
       " 'boolean bl4 = true',\n",
       " 'boolean[] blArr = {true, false, true}',\n",
       " \"char ch1 = 'A'\",\n",
       " \"char[] chArr = {'A', 'B', 'C'}\",\n",
       " 'byte byt1 = 127',\n",
       " 'byte[] bytArr = {1, 2, 3, 4, 1, 2, 3}',\n",
       " 'short shrt1 = 123',\n",
       " 'short[] shrtArr = {5, 6, 7, 8}',\n",
       " 'long lng1 = 1000000',\n",
       " 'long[] longArr = {10000, 20000, 30000, 40000}',\n",
       " 'float flt1 = 90',\n",
       " 'float[] floatArr = {10, 20, 30, 40}',\n",
       " 'double dbl1 = 10.10',\n",
       " 'double[] dblArr = {1.1, 2.2, 3.3}']"
      ]
     },
     "execution_count": 129,
     "metadata": {},
     "output_type": "execute_result"
    }
   ],
   "source": [
    "lines"
   ]
  },
  {
   "cell_type": "code",
   "execution_count": 159,
   "metadata": {},
   "outputs": [],
   "source": [
    "counters = {\n",
    "    \"int\": (0,0),\n",
    "    \"int[]\": (0,0),\n",
    "    \"String\": (0,0),\n",
    "    \"String[]\": (0,0),\n",
    "    \"boolean\": (0,0),\n",
    "    \"boolean[]\": (0,0),\n",
    "    \"char\": (0,0),\n",
    "    \"char[]\": (0,0),\n",
    "    \"byte\": (0,0),\n",
    "    \"byte[]\": (0,0),\n",
    "    \"short\": (0,0),\n",
    "    \"short[]\": (0,0),\n",
    "    \"long\": (0,0),\n",
    "    \"long[]\": (0,0),\n",
    "    \"float\": (0,0),\n",
    "    \"float[]\": (0,0),\n",
    "    \"double\": (0,0),\n",
    "    \"double[]\": (0,0)\n",
    "}"
   ]
  },
  {
   "cell_type": "code",
   "execution_count": 113,
   "metadata": {},
   "outputs": [],
   "source": [
    "def countInt(line):\n",
    "    return len(line), len(line.split())"
   ]
  },
  {
   "cell_type": "code",
   "execution_count": 131,
   "metadata": {},
   "outputs": [],
   "source": [
    "def switch(label, line):\n",
    "    switcher={\n",
    "        \"int\": (lambda x: countInt(x))(line),\n",
    "        #\"int[]\": (lambda x: countIntArray(x))(line),\n",
    "        #\"String\": (lambda x: countString(x))(line),\n",
    "        #\"String[]\": (lambda x: countString(x))(line),\n",
    "        #\"boolean\": (lambda x: countBoolean(x))(line),\n",
    "        #\"boolean[]\": (lambda x: countBoolean(x))(line),\n",
    "        #\"char\": (lambda x: countChar(x))(line),\n",
    "        #\"char[]\": (lambda x: countChar(x))(line),\n",
    "        #\"byte\": (lambda x: countByte(x))(line),\n",
    "        #\"byte[]\": (lambda x: countByte(x))(line),\n",
    "        #\"short\": (lambda x: countShort(x))(line),\n",
    "        #\"short[]\": (lambda x: countShortx))(line),\n",
    "        #\"long\": (lambda x: countLong(x))(line),\n",
    "        #\"long[]\": (lambda x: countLong(x))(line),\n",
    "        #\"float\": (lambda x: countFloat(x))(line),\n",
    "        #\"float[]\": (lambda x: countFloat(x))(line),\n",
    "        #\"double\": (lambda x: countDouble(x))(line),\n",
    "        #\"double[]\": (lambda x: countDouble(x))(line),\n",
    "        }\n",
    "    return switcher.get(label,(100, 100))"
   ]
  },
  {
   "cell_type": "code",
   "execution_count": 141,
   "metadata": {},
   "outputs": [
    {
     "name": "stdout",
     "output_type": "stream",
     "text": [
      "int\n",
      "(11, 4)\n",
      "int\n",
      "(10, 4)\n",
      "int[]\n",
      "(100, 100)\n",
      "String\n",
      "(100, 100)\n",
      "String\n",
      "(100, 100)\n",
      "String[]\n",
      "(100, 100)\n",
      "boolean\n",
      "(100, 100)\n",
      "boolean\n",
      "(100, 100)\n",
      "boolean[]\n",
      "(100, 100)\n",
      "char\n",
      "(100, 100)\n",
      "char[]\n",
      "(100, 100)\n",
      "byte\n",
      "(100, 100)\n",
      "byte[]\n",
      "(100, 100)\n",
      "short\n",
      "(100, 100)\n",
      "short[]\n",
      "(100, 100)\n",
      "long\n",
      "(100, 100)\n",
      "long[]\n",
      "(100, 100)\n",
      "float\n",
      "(100, 100)\n",
      "float[]\n",
      "(100, 100)\n",
      "double\n",
      "(100, 100)\n",
      "double[]\n",
      "(100, 100)\n"
     ]
    }
   ],
   "source": [
    "for line in lines:\n",
    "    print(line.split()[0])\n",
    "    print( switch( line.split()[0], line ) )    \n",
    "    #counters[ line.split()[0] ] += switch( line.split()[0], line)\n",
    "    counters[ line.split()[0] ] = tuple(map(sum,zip(counters[ line.split()[0] ], switch( line.split()[0], line))))\n",
    "    #print(line.split()[0], line)"
   ]
  },
  {
   "cell_type": "code",
   "execution_count": 142,
   "metadata": {},
   "outputs": [
    {
     "data": {
      "text/plain": [
       "{'int': (84, 32),\n",
       " 'int[]': (400, 400),\n",
       " 'String': (800, 800),\n",
       " 'String[]': (400, 400),\n",
       " 'boolean': (800, 800),\n",
       " 'boolean[]': (400, 400),\n",
       " 'char': (400, 400),\n",
       " 'char[]': (400, 400),\n",
       " 'byte': (400, 400),\n",
       " 'byte[]': (400, 400),\n",
       " 'short': (400, 400),\n",
       " 'short[]': (400, 400),\n",
       " 'long': (400, 400),\n",
       " 'long[]': (400, 400),\n",
       " 'float': (400, 400),\n",
       " 'float[]': (400, 400),\n",
       " 'double': (400, 400),\n",
       " 'double[]': (400, 400)}"
      ]
     },
     "execution_count": 142,
     "metadata": {},
     "output_type": "execute_result"
    }
   ],
   "source": [
    "counters"
   ]
  },
  {
   "cell_type": "code",
   "execution_count": 162,
   "metadata": {},
   "outputs": [
    {
     "data": {
      "text/plain": [
       "(False, 5, 2)"
      ]
     },
     "execution_count": 162,
     "metadata": {},
     "output_type": "execute_result"
    }
   ],
   "source": [
    "test = (False, 5, 2)\n",
    "test"
   ]
  },
  {
   "cell_type": "code",
   "execution_count": 146,
   "metadata": {},
   "outputs": [
    {
     "data": {
      "text/plain": [
       "True"
      ]
     },
     "execution_count": 146,
     "metadata": {},
     "output_type": "execute_result"
    }
   ],
   "source": [
    "test[0]"
   ]
  },
  {
   "cell_type": "code",
   "execution_count": 151,
   "metadata": {},
   "outputs": [
    {
     "data": {
      "text/plain": [
       "(2, 3)"
      ]
     },
     "execution_count": 151,
     "metadata": {},
     "output_type": "execute_result"
    }
   ],
   "source": [
    "test2 = test[1:]\n",
    "test2"
   ]
  },
  {
   "cell_type": "code",
   "execution_count": 163,
   "metadata": {},
   "outputs": [],
   "source": [
    "if test[0] == True:\n",
    "    counters[ 'int[]' ] = tuple(map(sum,zip(counters[ 'int[]' ], test[1:] )))\n",
    "else:\n",
    "    counters[ 'int' ] = tuple(map(sum,zip(counters[ 'int' ], test[1:] )))"
   ]
  },
  {
   "cell_type": "code",
   "execution_count": 164,
   "metadata": {},
   "outputs": [
    {
     "data": {
      "text/plain": [
       "{'int': (5, 2),\n",
       " 'int[]': (2, 3),\n",
       " 'String': (0, 0),\n",
       " 'String[]': (0, 0),\n",
       " 'boolean': (0, 0),\n",
       " 'boolean[]': (0, 0),\n",
       " 'char': (0, 0),\n",
       " 'char[]': (0, 0),\n",
       " 'byte': (0, 0),\n",
       " 'byte[]': (0, 0),\n",
       " 'short': (0, 0),\n",
       " 'short[]': (0, 0),\n",
       " 'long': (0, 0),\n",
       " 'long[]': (0, 0),\n",
       " 'float': (0, 0),\n",
       " 'float[]': (0, 0),\n",
       " 'double': (0, 0),\n",
       " 'double[]': (0, 0)}"
      ]
     },
     "execution_count": 164,
     "metadata": {},
     "output_type": "execute_result"
    }
   ],
   "source": [
    "counters"
   ]
  },
  {
   "cell_type": "code",
   "execution_count": null,
   "metadata": {},
   "outputs": [],
   "source": []
  }
 ],
 "metadata": {
  "kernelspec": {
   "display_name": "Python 3.7.3 64-bit",
   "language": "python",
   "name": "python37364bit3bdd5c4e0d124a118b9ce7210f888a35"
  },
  "language_info": {
   "codemirror_mode": {
    "name": "ipython",
    "version": 3
   },
   "file_extension": ".py",
   "mimetype": "text/x-python",
   "name": "python",
   "nbconvert_exporter": "python",
   "pygments_lexer": "ipython3",
   "version": "3.7.3"
  }
 },
 "nbformat": 4,
 "nbformat_minor": 2
}
