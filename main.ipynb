{
 "cells": [
  {
   "cell_type": "code",
   "execution_count": 12,
   "metadata": {},
   "outputs": [],
   "source": [
    "import re\n",
    "from short import countShort\n",
    "from long import countLong\n",
    "from int import countInt\n",
    "from boolean import countBool\n",
    "from byte import countByte\n",
    "from char import countChar\n",
    "from DoubleFloat import countFloat, countDouble\n",
    "from String import countString"
   ]
  },
  {
   "cell_type": "code",
   "execution_count": 2,
   "metadata": {},
   "outputs": [],
   "source": [
    "file = open(\"java-regex.txt\", \"r\")\n",
    "content = file.read()\n",
    "lines = content.split(';')\n",
    "file.close()"
   ]
  },
  {
   "cell_type": "code",
   "execution_count": 3,
   "metadata": {},
   "outputs": [
    {
     "output_type": "stream",
     "name": "stdout",
     "text": [
      "[' int a, b, c', ' int d = 20', ' int[] intArr = {1, 2, 3, 4, 1, 2, 3}', ' String str1, str2, str3', ' String str4 = \"Cadena 4\"', ' String[] strArr = {\"cd1\", \"cd2\", \"cd3\"}', ' boolean bl1, bl2, bl3', ' boolean bl4 = true', ' boolean[] blArr = {true, false, true}', \" char ch1 = 'A'\", \" char[] chArr = {'A', 'B', 'C'}\", ' byte byt1 = 127', ' byte[] bytArr = {1, 2, 3, 4, 1, 2, 3}', ' short shrt1 = 8', ' short[] shrtArr = {5, 6, 7, 8}', ' long lng1 = 1000000', ' long[] longArr = {10000, 20000, 30000, 40000}', ' float flt1 = 90', ' float[] floatArr = {10, 20, 30, 40}', ' double dbl1 = 10.10', ' double[] dblArr = {1.1, 2.2, 3.3}', '']\n"
     ]
    }
   ],
   "source": [
    "print(lines)"
   ]
  },
  {
   "cell_type": "code",
   "execution_count": 4,
   "metadata": {},
   "outputs": [
    {
     "output_type": "execute_result",
     "data": {
      "text/plain": [
       "''"
      ]
     },
     "metadata": {},
     "execution_count": 4
    }
   ],
   "source": [
    "lines.pop()"
   ]
  },
  {
   "cell_type": "code",
   "execution_count": 5,
   "metadata": {},
   "outputs": [],
   "source": [
    "lines = [x.lstrip() for x in lines]"
   ]
  },
  {
   "cell_type": "code",
   "execution_count": 6,
   "metadata": {},
   "outputs": [
    {
     "output_type": "execute_result",
     "data": {
      "text/plain": [
       "['int a, b, c',\n",
       " 'int d = 20',\n",
       " 'int[] intArr = {1, 2, 3, 4, 1, 2, 3}',\n",
       " 'String str1, str2, str3',\n",
       " 'String str4 = \"Cadena 4\"',\n",
       " 'String[] strArr = {\"cd1\", \"cd2\", \"cd3\"}',\n",
       " 'boolean bl1, bl2, bl3',\n",
       " 'boolean bl4 = true',\n",
       " 'boolean[] blArr = {true, false, true}',\n",
       " \"char ch1 = 'A'\",\n",
       " \"char[] chArr = {'A', 'B', 'C'}\",\n",
       " 'byte byt1 = 127',\n",
       " 'byte[] bytArr = {1, 2, 3, 4, 1, 2, 3}',\n",
       " 'short shrt1 = 8',\n",
       " 'short[] shrtArr = {5, 6, 7, 8}',\n",
       " 'long lng1 = 1000000',\n",
       " 'long[] longArr = {10000, 20000, 30000, 40000}',\n",
       " 'float flt1 = 90',\n",
       " 'float[] floatArr = {10, 20, 30, 40}',\n",
       " 'double dbl1 = 10.10',\n",
       " 'double[] dblArr = {1.1, 2.2, 3.3}']"
      ]
     },
     "metadata": {},
     "execution_count": 6
    }
   ],
   "source": [
    "lines"
   ]
  },
  {
   "cell_type": "code",
   "execution_count": 7,
   "metadata": {},
   "outputs": [],
   "source": [
    "counters = {\n",
    "    \"int\": (0,0),\n",
    "    \"int[]\": (0,0),\n",
    "    \"String\": (0,0),\n",
    "    \"String[]\": (0,0),\n",
    "    \"boolean\": (0,0),\n",
    "    \"boolean[]\": (0,0),\n",
    "    \"char\": (0,0),\n",
    "    \"char[]\": (0,0),\n",
    "    \"byte\": (0,0),\n",
    "    \"byte[]\": (0,0),\n",
    "    \"short\": (0,0),\n",
    "    \"short[]\": (0,0),\n",
    "    \"long\": (0,0),\n",
    "    \"long[]\": (0,0),\n",
    "    \"float\": (0,0),\n",
    "    \"float[]\": (0,0),\n",
    "    \"double\": (0,0),\n",
    "    \"double[]\": (0,0)\n",
    "}"
   ]
  },
  {
   "cell_type": "code",
   "execution_count": 8,
   "metadata": {},
   "outputs": [],
   "source": [
    "#def countInt(line):\n",
    " #   return len(line), len(line.split())"
   ]
  },
  {
   "cell_type": "code",
   "execution_count": 9,
   "metadata": {},
   "outputs": [],
   "source": [
    "def switch(label, line):\n",
    "    switcher={\n",
    "        \"int\": (lambda x: countInt(x))(line),\n",
    "        #\"int[]\": (lambda x: countInt(x))(line),\n",
    "        #\"String\": (lambda x: countString(x))(line),\n",
    "        #\"String[]\": (lambda x: countString(x))(line),\n",
    "        #\"boolean\": (lambda x: countBoolean(x))(line),\n",
    "        #\"boolean[]\": (lambda x: countBoolean(x))(line),\n",
    "        #\"char\": (lambda x: countChar(x))(line),\n",
    "        #\"char[]\": (lambda x: countChar(x))(line),\n",
    "        #\"byte\": (lambda x: countByte(x))(line),\n",
    "        #\"byte[]\": (lambda x: countByte(x))(line),\n",
    "        #\"short\": (lambda x: countShort(x))(line),\n",
    "        #\"short[]\": (lambda x: countShortx))(line),\n",
    "        #\"long\": (lambda x: countLong(x))(line),\n",
    "        #\"long[]\": (lambda x: countLong(x))(line),\n",
    "        #\"float\": (lambda x: countFloat(x))(line),\n",
    "        #\"float[]\": (lambda x: countFloat(x))(line),\n",
    "        #\"double\": (lambda x: countDouble(x))(line),\n",
    "        #\"double[]\": (lambda x: countDouble(x))(line),\n",
    "        }\n",
    "    return switcher.get(label,(100, 100))"
   ]
  },
  {
   "cell_type": "code",
   "execution_count": 13,
   "metadata": {},
   "outputs": [
    {
     "output_type": "stream",
     "name": "stdout",
     "text": [
      "-------------   int line:  int a, b, c   -------------\ncountInt:  (False, 0, 3)\ncountString:  (False, -1, -1)\ncountBool:  (False, -1, -1)\ncountDouble:  [False, -2, -1]\ncountFloat:  [False, -2, -1]\ncountChar:  (False, -1, -1)\ncountByte:  (False, -1, -1)\ncountShort:  (False, -1, -1)\ncountLong:  (False, -1, -1)\n\n-------------   int line:  int d = 20   -------------\ncountInt:  (False, 1, 1)\ncountString:  (False, -1, -1)\ncountBool:  (False, -1, -1)\ncountDouble:  [False, -2, -1]\ncountFloat:  [False, -2, -1]\ncountChar:  (False, -1, -1)\ncountByte:  (False, -1, -1)\ncountShort:  (False, -1, -1)\ncountLong:  (False, -1, -1)\n\n-------------   int[] line:  int[] intArr = {1, 2, 3, 4, 1, 2, 3}   -------------\ncountInt:  (True, 1, 1)\ncountString:  (False, -1, -1)\ncountBool:  (False, -1, -1)\ncountDouble:  [False, -2, -1]\ncountFloat:  [False, -2, -1]\ncountChar:  (False, -1, -1)\ncountByte:  (False, -1, -1)\ncountShort:  (False, -1, -1)\ncountLong:  (False, -1, -1)\n\n-------------   String line:  String str1, str2, str3   -------------\ncountInt:  (False, -1, -1)\ncountString:  (False, -1, -1)\ncountBool:  (False, -1, -1)\ncountDouble:  [False, -2, -1]\ncountFloat:  [False, -2, -1]\ncountChar:  (False, -1, -1)\ncountByte:  (False, -1, -1)\ncountShort:  (False, -1, -1)\ncountLong:  (False, -1, -1)\n\n-------------   String line:  String str4 = \"Cadena 4\"   -------------\ncountInt:  (False, -1, -1)\ncountString:  (False, -1, -1)\ncountBool:  (False, -1, -1)\ncountDouble:  [False, -2, -1]\ncountFloat:  [False, -2, -1]\ncountChar:  (False, -1, -1)\ncountByte:  (False, -1, -1)\ncountShort:  (False, -1, -1)\ncountLong:  (False, -1, -1)\n\n-------------   String[] line:  String[] strArr = {\"cd1\", \"cd2\", \"cd3\"}   -------------\ncountInt:  (False, -1, -1)\ncountString:  (False, -1, -1)\ncountBool:  (False, -1, -1)\ncountDouble:  [False, -2, -1]\ncountFloat:  [False, -2, -1]\ncountChar:  (False, -1, -1)\ncountByte:  (False, -1, -1)\ncountShort:  (False, -1, -1)\ncountLong:  (False, -1, -1)\n\n-------------   boolean line:  boolean bl1, bl2, bl3   -------------\ncountInt:  (False, -1, -1)\ncountString:  (False, -1, -1)\ncountBool:  (False, -1, -1)\ncountDouble:  [False, -2, -1]\ncountFloat:  [False, -2, -1]\ncountChar:  (False, -1, -1)\ncountByte:  (False, -1, -1)\ncountShort:  (False, -1, -1)\ncountLong:  (False, -1, -1)\n\n-------------   boolean line:  boolean bl4 = true   -------------\ncountInt:  (False, -1, -1)\ncountString:  (False, -1, -1)\ncountBool:  (False, -1, -1)\ncountDouble:  [False, -2, -1]\ncountFloat:  [False, -2, -1]\ncountChar:  (False, -1, -1)\ncountByte:  (False, -1, -1)\ncountShort:  (False, -1, -1)\ncountLong:  (False, -1, -1)\n\n-------------   boolean[] line:  boolean[] blArr = {true, false, true}   -------------\ncountInt:  (False, -1, -1)\ncountString:  (False, -1, -1)\ncountBool:  (False, -1, -1)\ncountDouble:  [False, -2, -1]\ncountFloat:  [False, -2, -1]\ncountChar:  (False, -1, -1)\ncountByte:  (False, -1, -1)\ncountShort:  (False, -1, -1)\ncountLong:  (False, -1, -1)\n\n-------------   char line:  char ch1 = 'A'   -------------\ncountInt:  (False, -1, -1)\ncountString:  (False, -1, -1)\ncountBool:  (False, -1, -1)\ncountDouble:  [False, -2, -1]\ncountFloat:  [False, -2, -1]\ncountChar:  (False, -1, -1)\ncountByte:  (False, -1, -1)\ncountShort:  (False, -1, -1)\ncountLong:  (False, -1, -1)\n\n-------------   char[] line:  char[] chArr = {'A', 'B', 'C'}   -------------\ncountInt:  (False, -1, -1)\ncountString:  (False, -1, -1)\ncountBool:  (False, -1, -1)\ncountDouble:  [False, -2, -1]\ncountFloat:  [False, -2, -1]\ncountChar:  (False, -1, -1)\ncountByte:  (False, -1, -1)\ncountShort:  (False, -1, -1)\ncountLong:  (False, -1, -1)\n\n-------------   byte line:  byte byt1 = 127   -------------\ncountInt:  (False, -1, -1)\ncountString:  (False, -1, -1)\ncountBool:  (False, -1, -1)\ncountDouble:  [False, -2, -1]\ncountFloat:  [False, -2, -1]\ncountChar:  (False, -1, -1)\ncountByte:  (False, -1, -1)\ncountShort:  (False, -1, -1)\ncountLong:  (False, -1, -1)\n\n-------------   byte[] line:  byte[] bytArr = {1, 2, 3, 4, 1, 2, 3}   -------------\ncountInt:  (False, -1, -1)\ncountString:  (False, -1, -1)\ncountBool:  (False, -1, -1)\ncountDouble:  [False, -2, -1]\ncountFloat:  [False, -2, -1]\ncountChar:  (False, -1, -1)\ncountByte:  (False, -1, -1)\ncountShort:  (False, -1, -1)\ncountLong:  (False, -1, -1)\n\n-------------   short line:  short shrt1 = 8   -------------\ncountInt:  (False, -1, -1)\ncountString:  (False, -1, -1)\ncountBool:  (False, -1, -1)\ncountDouble:  [False, -2, -1]\ncountFloat:  [False, -2, -1]\ncountChar:  (False, -1, -1)\ncountByte:  (False, -1, -1)\ncountShort:  (False, -1, -1)\ncountLong:  (False, -1, -1)\n\n-------------   short[] line:  short[] shrtArr = {5, 6, 7, 8}   -------------\ncountInt:  (False, -1, -1)\ncountString:  (False, -1, -1)\ncountBool:  (False, -1, -1)\ncountDouble:  [False, -2, -1]\ncountFloat:  [False, -2, -1]\ncountChar:  (False, -1, -1)\ncountByte:  (False, -1, -1)\ncountShort:  (False, -1, -1)\ncountLong:  (False, -1, -1)\n\n-------------   long line:  long lng1 = 1000000   -------------\ncountInt:  (False, -1, -1)\ncountString:  (False, -1, -1)\ncountBool:  (False, -1, -1)\ncountDouble:  [False, -2, -1]\ncountFloat:  [False, -2, -1]\ncountChar:  (False, -1, -1)\ncountByte:  (False, -1, -1)\ncountShort:  (False, -1, -1)\ncountLong:  (False, -1, -1)\n\n-------------   long[] line:  long[] longArr = {10000, 20000, 30000, 40000}   -------------\ncountInt:  (False, -1, -1)\ncountString:  (False, -1, -1)\ncountBool:  (False, -1, -1)\ncountDouble:  [False, -2, -1]\ncountFloat:  [False, -2, -1]\ncountChar:  (False, -1, -1)\ncountByte:  (False, -1, -1)\ncountShort:  (False, -1, -1)\ncountLong:  (False, -1, -1)\n\n-------------   float line:  float flt1 = 90   -------------\ncountInt:  (False, -1, -1)\ncountString:  (False, -1, -1)\ncountBool:  (False, -1, -1)\ncountDouble:  [False, -2, -1]\ncountFloat:  [False, -2, -1]\ncountChar:  (False, -1, -1)\ncountByte:  (False, -1, -1)\ncountShort:  (False, -1, -1)\ncountLong:  (False, -1, -1)\n\n-------------   float[] line:  float[] floatArr = {10, 20, 30, 40}   -------------\ncountInt:  (False, -1, -1)\ncountString:  (False, -1, -1)\ncountBool:  (False, -1, -1)\ncountDouble:  [False, -2, -1]\ncountFloat:  [False, -2, -1]\ncountChar:  (False, -1, -1)\ncountByte:  (False, -1, -1)\ncountShort:  (False, -1, -1)\ncountLong:  (False, -1, -1)\n\n-------------   double line:  double dbl1 = 10.10   -------------\ncountInt:  (False, -1, -1)\ncountString:  (False, -1, -1)\ncountBool:  (False, -1, -1)\ncountDouble:  [False, 1, 1]\ncountFloat:  [False, -2, -1]\ncountChar:  (False, -1, -1)\ncountByte:  (False, -1, -1)\ncountShort:  (False, -1, -1)\ncountLong:  (False, -1, -1)\n\n-------------   double[] line:  double[] dblArr = {1.1, 2.2, 3.3}   -------------\ncountInt:  (False, -1, -1)\ncountString:  (False, -1, -1)\ncountBool:  (False, -1, -1)\ncountDouble:  [False, -2, -1]\ncountFloat:  [False, -2, -1]\ncountChar:  (False, -1, -1)\ncountByte:  (False, -1, -1)\ncountShort:  (False, -1, -1)\ncountLong:  (False, -1, -1)\n\n"
     ]
    }
   ],
   "source": [
    "for line in lines:\n",
    "    print(\"-------------  \", line.split()[0], \"line: \", line, \"  -------------\")\n",
    "    #print(line.split()[0])\n",
    "    print(\"countInt: \", countInt(line))\n",
    "    print(\"countString: \", countString(line))\n",
    "    print(\"countBool: \", countBool(line))\n",
    "    print(\"countDouble: \", countDouble(line))\n",
    "    print(\"countFloat: \", countFloat(line))\n",
    "    print(\"countChar: \", countChar(line))\n",
    "    print(\"countByte: \", countByte(line))\n",
    "    print(\"countShort: \", countShort(line))\n",
    "    print(\"countLong: \", countLong(line))\n",
    "    print(\"\")\n",
    "    #print( switch( line.split()[0], line ) )    \n",
    "    #counters[ line.split()[0] ] += switch( line.split()[0], line)\n",
    "    #counters[ line.split()[0] ] = tuple(map(sum,zip(counters[ line.split()[0] ], switch( line.split()[0], line))))\n",
    "    #print(line.split()[0], line)"
   ]
  },
  {
   "cell_type": "code",
   "execution_count": 34,
   "metadata": {},
   "outputs": [
    {
     "output_type": "execute_result",
     "data": {
      "text/plain": [
       "{'int': (126, 52),\n",
       " 'int[]': (1000, 1000),\n",
       " 'String': (2000, 2000),\n",
       " 'String[]': (1000, 1000),\n",
       " 'boolean': (2000, 2000),\n",
       " 'boolean[]': (1000, 1000),\n",
       " 'char': (1000, 1000),\n",
       " 'char[]': (1000, 1000),\n",
       " 'byte': (1000, 1000),\n",
       " 'byte[]': (1000, 1000),\n",
       " 'short': (1000, 1000),\n",
       " 'short[]': (1000, 1000),\n",
       " 'long': (1000, 1000),\n",
       " 'long[]': (1000, 1000),\n",
       " 'float': (1000, 1000),\n",
       " 'float[]': (1000, 1000),\n",
       " 'double': (1000, 1000),\n",
       " 'double[]': (1000, 1000)}"
      ]
     },
     "metadata": {},
     "execution_count": 34
    }
   ],
   "source": [
    "counters"
   ]
  },
  {
   "cell_type": "code",
   "execution_count": 162,
   "metadata": {},
   "outputs": [
    {
     "data": {
      "text/plain": [
       "(False, 5, 2)"
      ]
     },
     "execution_count": 162,
     "metadata": {},
     "output_type": "execute_result"
    }
   ],
   "source": [
    "test = (False, 5, 2)\n",
    "test"
   ]
  },
  {
   "cell_type": "code",
   "execution_count": 146,
   "metadata": {},
   "outputs": [
    {
     "data": {
      "text/plain": [
       "True"
      ]
     },
     "execution_count": 146,
     "metadata": {},
     "output_type": "execute_result"
    }
   ],
   "source": [
    "test[0]"
   ]
  },
  {
   "cell_type": "code",
   "execution_count": 151,
   "metadata": {},
   "outputs": [
    {
     "data": {
      "text/plain": [
       "(2, 3)"
      ]
     },
     "execution_count": 151,
     "metadata": {},
     "output_type": "execute_result"
    }
   ],
   "source": [
    "test2 = test[1:]\n",
    "test2"
   ]
  },
  {
   "cell_type": "code",
   "execution_count": 163,
   "metadata": {},
   "outputs": [],
   "source": [
    "if test[0] == True:\n",
    "    counters[ 'int[]' ] = tuple(map(sum,zip(counters[ 'int[]' ], test[1:] )))\n",
    "else:\n",
    "    counters[ 'int' ] = tuple(map(sum,zip(counters[ 'int' ], test[1:] )))"
   ]
  },
  {
   "cell_type": "code",
   "execution_count": 164,
   "metadata": {},
   "outputs": [
    {
     "data": {
      "text/plain": [
       "{'int': (5, 2),\n",
       " 'int[]': (2, 3),\n",
       " 'String': (0, 0),\n",
       " 'String[]': (0, 0),\n",
       " 'boolean': (0, 0),\n",
       " 'boolean[]': (0, 0),\n",
       " 'char': (0, 0),\n",
       " 'char[]': (0, 0),\n",
       " 'byte': (0, 0),\n",
       " 'byte[]': (0, 0),\n",
       " 'short': (0, 0),\n",
       " 'short[]': (0, 0),\n",
       " 'long': (0, 0),\n",
       " 'long[]': (0, 0),\n",
       " 'float': (0, 0),\n",
       " 'float[]': (0, 0),\n",
       " 'double': (0, 0),\n",
       " 'double[]': (0, 0)}"
      ]
     },
     "execution_count": 164,
     "metadata": {},
     "output_type": "execute_result"
    }
   ],
   "source": [
    "counters"
   ]
  },
  {
   "cell_type": "code",
   "execution_count": null,
   "metadata": {},
   "outputs": [],
   "source": []
  }
 ],
 "metadata": {
  "kernelspec": {
   "display_name": "Python 3.7.3 64-bit",
   "language": "python",
   "name": "python37364bit3bdd5c4e0d124a118b9ce7210f888a35"
  },
  "language_info": {
   "codemirror_mode": {
    "name": "ipython",
    "version": 3
   },
   "file_extension": ".py",
   "mimetype": "text/x-python",
   "name": "python",
   "nbconvert_exporter": "python",
   "pygments_lexer": "ipython3",
   "version": "3.7.3-final"
  }
 },
 "nbformat": 4,
 "nbformat_minor": 2
}