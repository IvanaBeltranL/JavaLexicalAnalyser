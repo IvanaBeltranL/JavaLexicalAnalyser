{
 "cells": [
  {
   "cell_type": "code",
   "execution_count": 31,
   "metadata": {},
   "outputs": [],
   "source": [
    "import re\n",
    "\n",
    "from int import countInt\n",
    "from String import countString\n",
    "from boolean import countBoolean\n",
    "from char import countChar\n",
    "from byte import countByte\n",
    "from short import countShort\n",
    "from long import countLong\n",
    "from DoubleFloat import countFloat, countDouble"
   ]
  },
  {
   "cell_type": "code",
   "execution_count": 24,
   "metadata": {},
   "outputs": [],
   "source": [
    "file = open(\"java-regex.txt\", \"r\")\n",
    "content = file.read()\n",
    "lines = content.split(';')\n",
    "lines.pop()\n",
    "file.close()"
   ]
  },
  {
   "cell_type": "code",
   "execution_count": 25,
   "metadata": {},
   "outputs": [
    {
     "output_type": "execute_result",
     "data": {
      "text/plain": [
       "['int a, b, c',\n",
       " 'int d = 20',\n",
       " 'int[] intArr = {1, 2, 3, 4, 1, 2, 3}',\n",
       " 'String str1, str2, str3',\n",
       " 'String str4 = \"Cadena 4\"',\n",
       " 'String[] strArr = {\"cd1\", \"cd2\", \"cd3\"}',\n",
       " 'boolean bl1, bl2, bl3',\n",
       " 'boolean bl4 = true',\n",
       " 'boolean[] blArr = {true, false, true}',\n",
       " \"char ch1 = 'A'\",\n",
       " \"char[] chArr = {'A', 'B', 'C'}\",\n",
       " 'byte byt1 = 127',\n",
       " 'byte[] bytArr = {1, 2, 3, 4, 1, 2, 3}',\n",
       " 'short shrt1 = 8',\n",
       " 'short[] shrtArr = {5, 6, 7, 8}',\n",
       " 'long lng1 = 1000000l',\n",
       " 'long[] longArr = {10000l, 20000l, 30000l, 40000l}',\n",
       " 'float flt1 = 90f',\n",
       " 'float[] floatArr = {10f, 20f, 30f, 40f}',\n",
       " 'double dbl1 = 10.10',\n",
       " 'double[] dblArr = {1.1, 2.2, 3.3}']"
      ]
     },
     "metadata": {},
     "execution_count": 25
    }
   ],
   "source": [
    "lines = [x.lstrip() for x in lines]\n",
    "lines"
   ]
  },
  {
   "cell_type": "code",
   "execution_count": 26,
   "metadata": {},
   "outputs": [],
   "source": [
    "counters = {\n",
    "    \"int\": (0,0),\n",
    "    \"int[]\": (0,0),\n",
    "    \"String\": (0,0),\n",
    "    \"String[]\": (0,0),\n",
    "    \"boolean\": (0,0),\n",
    "    \"boolean[]\": (0,0),\n",
    "    \"char\": (0,0),\n",
    "    \"char[]\": (0,0),\n",
    "    \"byte\": (0,0),\n",
    "    \"byte[]\": (0,0),\n",
    "    \"short\": (0,0),\n",
    "    \"short[]\": (0,0),\n",
    "    \"long\": (0,0),\n",
    "    \"long[]\": (0,0),\n",
    "    \"float\": (0,0),\n",
    "    \"float[]\": (0,0),\n",
    "    \"double\": (0,0),\n",
    "    \"double[]\": (0,0)\n",
    "}"
   ]
  },
  {
   "cell_type": "code",
   "execution_count": 27,
   "metadata": {},
   "outputs": [],
   "source": [
    "def switch(label, line):\n",
    "    switcher={\n",
    "        \"int\": (lambda x: countInt(x))(line),\n",
    "        \"int[]\": (lambda x: countInt(x))(line),\n",
    "        \"String\": (lambda x: countString(x))(line),\n",
    "        \"String[]\": (lambda x: countString(x))(line),\n",
    "        \"boolean\": (lambda x: countBoolean(x))(line),\n",
    "        \"boolean[]\": (lambda x: countBoolean(x))(line),\n",
    "        \"char\": (lambda x: countChar(x))(line),\n",
    "        \"char[]\": (lambda x: countChar(x))(line),\n",
    "        \"byte\": (lambda x: countByte(x))(line),\n",
    "        \"byte[]\": (lambda x: countByte(x))(line),\n",
    "        \"short\": (lambda x: countShort(x))(line),\n",
    "        \"short[]\": (lambda x: countShort(x))(line),\n",
    "        \"long\": (lambda x: countLong(x))(line),\n",
    "        \"long[]\": (lambda x: countLong(x))(line),\n",
    "        \"float\": (lambda x: countFloat(x))(line),\n",
    "        \"float[]\": (lambda x: countFloat(x))(line),\n",
    "        \"double\": (lambda x: countDouble(x))(line),\n",
    "        \"double[]\": (lambda x: countDouble(x))(line),\n",
    "        }\n",
    "    return switcher.get(label,(1000, 1000))"
   ]
  },
  {
   "cell_type": "code",
   "execution_count": 28,
   "metadata": {},
   "outputs": [
    {
     "output_type": "stream",
     "name": "stdout",
     "text": [
      "-------------   int line:  int a, b, c   -------------\ncountInt:  (False, 0, 3)\ncountString:  (False, -1, -1)\ncountBoolean:  (False, -1, -1)\ncountChar:  (False, -1, -1)\ncountByte:  (False, -1, -1)\ncountShort:  (False, -1, -1)\ncountLong:  (False, -1, -1)\ncountFloat:  (False, 0, 0)\ncountDouble:  (False, 0, 0)\n\n-------------   int line:  int d = 20   -------------\ncountInt:  (False, 1, 1)\ncountString:  (False, -1, -1)\ncountBoolean:  (False, -1, -1)\ncountChar:  (False, -1, -1)\ncountByte:  (False, -1, -1)\ncountShort:  (False, -1, -1)\ncountLong:  (False, -1, -1)\ncountFloat:  (False, -1, -1)\ncountDouble:  (False, 1, 1)\n\n-------------   int[] line:  int[] intArr = {1, 2, 3, 4, 1, 2, 3}   -------------\ncountInt:  (True, 1, 1)\ncountString:  (False, -1, -1)\ncountBoolean:  (False, -1, -1)\ncountChar:  (False, -1, -1)\ncountByte:  (False, -1, -1)\ncountShort:  (False, -1, -1)\ncountLong:  (False, -1, -1)\ncountFloat:  (False, -1, -1)\ncountDouble:  (False, -1, -1)\n\n-------------   String line:  String str1, str2, str3   -------------\ncountInt:  (False, -1, -1)\ncountString:  (False, 3, 0)\ncountBoolean:  (False, -1, -1)\ncountChar:  (False, -1, -1)\ncountByte:  (False, -1, -1)\ncountShort:  (False, -1, -1)\ncountLong:  (False, -1, -1)\ncountFloat:  (False, 0, 0)\ncountDouble:  (False, 0, 0)\n\n-------------   String line:  String str4 = \"Cadena 4\"   -------------\ncountInt:  (False, -1, -1)\ncountString:  (False, 0, 1)\ncountBoolean:  (False, -1, -1)\ncountChar:  (False, -1, -1)\ncountByte:  (False, -1, -1)\ncountShort:  (False, -1, -1)\ncountLong:  (False, -1, -1)\ncountFloat:  (False, -1, -1)\ncountDouble:  (False, -1, -1)\n\n-------------   String[] line:  String[] strArr = {\"cd1\", \"cd2\", \"cd3\"}   -------------\ncountInt:  (False, -1, -1)\ncountString:  (True, 0, 1)\ncountBoolean:  (False, -1, -1)\ncountChar:  (False, -1, -1)\ncountByte:  (False, -1, -1)\ncountShort:  (False, -1, -1)\ncountLong:  (False, -1, -1)\ncountFloat:  (False, -1, -1)\ncountDouble:  (False, -1, -1)\n\n-------------   boolean line:  boolean bl1, bl2, bl3   -------------\ncountInt:  (False, -1, -1)\ncountString:  (False, -1, -1)\ncountBoolean:  (False, 3, 0)\ncountChar:  (False, -1, -1)\ncountByte:  (False, -1, -1)\ncountShort:  (False, -1, -1)\ncountLong:  (False, -1, -1)\ncountFloat:  (False, 0, 0)\ncountDouble:  (False, 0, 0)\n\n-------------   boolean line:  boolean bl4 = true   -------------\ncountInt:  (False, -1, -1)\ncountString:  (False, -1, -1)\ncountBoolean:  (False, 0, 1)\ncountChar:  (False, -1, -1)\ncountByte:  (False, -1, -1)\ncountShort:  (False, -1, -1)\ncountLong:  (False, -1, -1)\ncountFloat:  (False, -1, -1)\ncountDouble:  (False, -1, -1)\n\n-------------   boolean[] line:  boolean[] blArr = {true, false, true}   -------------\ncountInt:  (False, -1, -1)\ncountString:  (False, -1, -1)\ncountBoolean:  (True, 0, 1)\ncountChar:  (False, -1, -1)\ncountByte:  (False, -1, -1)\ncountShort:  (False, -1, -1)\ncountLong:  (False, -1, -1)\ncountFloat:  (False, -1, -1)\ncountDouble:  (False, -1, -1)\n\n-------------   char line:  char ch1 = 'A'   -------------\ncountInt:  (False, -1, -1)\ncountString:  (False, -1, -1)\ncountBoolean:  (False, -1, -1)\ncountChar:  (False, 0, 1)\ncountByte:  (False, -1, -1)\ncountShort:  (False, -1, -1)\ncountLong:  (False, -1, -1)\ncountFloat:  (False, -1, -1)\ncountDouble:  (False, -1, -1)\n\n-------------   char[] line:  char[] chArr = {'A', 'B', 'C'}   -------------\ncountInt:  (False, -1, -1)\ncountString:  (False, -1, -1)\ncountBoolean:  (False, -1, -1)\ncountChar:  (True, 0, 1)\ncountByte:  (False, -1, -1)\ncountShort:  (False, -1, -1)\ncountLong:  (False, -1, -1)\ncountFloat:  (False, -1, -1)\ncountDouble:  (False, -1, -1)\n\n-------------   byte line:  byte byt1 = 127   -------------\ncountInt:  (False, -1, -1)\ncountString:  (False, -1, -1)\ncountBoolean:  (False, -1, -1)\ncountChar:  (False, -1, -1)\ncountByte:  (False, 0, 1)\ncountShort:  (False, -1, -1)\ncountLong:  (False, -1, -1)\ncountFloat:  (False, -1, -1)\ncountDouble:  (False, 1, 1)\n\n-------------   byte[] line:  byte[] bytArr = {1, 2, 3, 4, 1, 2, 3}   -------------\ncountInt:  (False, -1, -1)\ncountString:  (False, -1, -1)\ncountBoolean:  (False, -1, -1)\ncountChar:  (False, -1, -1)\ncountByte:  (True, 0, 1)\ncountShort:  (False, -1, -1)\ncountLong:  (False, -1, -1)\ncountFloat:  (False, -1, -1)\ncountDouble:  (False, -1, -1)\n\n-------------   short line:  short shrt1 = 8   -------------\ncountInt:  (False, -1, -1)\ncountString:  (False, -1, -1)\ncountBoolean:  (False, -1, -1)\ncountChar:  (False, -1, -1)\ncountByte:  (False, -1, -1)\ncountShort:  (False, 0, 1)\ncountLong:  (False, -1, -1)\ncountFloat:  (False, -1, -1)\ncountDouble:  (False, 1, 1)\n\n-------------   short[] line:  short[] shrtArr = {5, 6, 7, 8}   -------------\ncountInt:  (False, -1, -1)\ncountString:  (False, -1, -1)\ncountBoolean:  (False, -1, -1)\ncountChar:  (False, -1, -1)\ncountByte:  (False, -1, -1)\ncountShort:  (True, 0, 1)\ncountLong:  (False, -1, -1)\ncountFloat:  (False, -1, -1)\ncountDouble:  (False, -1, -1)\n\n-------------   long line:  long lng1 = 1000000l   -------------\ncountInt:  (False, -1, -1)\ncountString:  (False, -1, -1)\ncountBoolean:  (False, -1, -1)\ncountChar:  (False, -1, -1)\ncountByte:  (False, -1, -1)\ncountShort:  (False, -1, -1)\ncountLong:  (False, 1, 1)\ncountFloat:  (False, -1, -1)\ncountDouble:  (False, -1, -1)\n\n-------------   long[] line:  long[] longArr = {10000l, 20000l, 30000l, 40000l}   -------------\ncountInt:  (False, -1, -1)\ncountString:  (False, -1, -1)\ncountBoolean:  (False, -1, -1)\ncountChar:  (False, -1, -1)\ncountByte:  (False, -1, -1)\ncountShort:  (False, -1, -1)\ncountLong:  (True, 1, 1)\ncountFloat:  (False, -1, -1)\ncountDouble:  (False, -1, -1)\n\n-------------   float line:  float flt1 = 90f   -------------\ncountInt:  (False, -1, -1)\ncountString:  (False, -1, -1)\ncountBoolean:  (False, -1, -1)\ncountChar:  (False, -1, -1)\ncountByte:  (False, -1, -1)\ncountShort:  (False, -1, -1)\ncountLong:  (False, -1, -1)\ncountFloat:  (False, 1, 1)\ncountDouble:  (False, -1, -1)\n\n-------------   float[] line:  float[] floatArr = {10f, 20f, 30f, 40f}   -------------\ncountInt:  (False, -1, -1)\ncountString:  (False, -1, -1)\ncountBoolean:  (False, -1, -1)\ncountChar:  (False, -1, -1)\ncountByte:  (False, -1, -1)\ncountShort:  (False, -1, -1)\ncountLong:  (False, -1, -1)\ncountFloat:  (True, 1, 1)\ncountDouble:  (False, -1, -1)\n\n-------------   double line:  double dbl1 = 10.10   -------------\ncountInt:  (False, -1, -1)\ncountString:  (False, -1, -1)\ncountBoolean:  (False, -1, -1)\ncountChar:  (False, -1, -1)\ncountByte:  (False, -1, -1)\ncountShort:  (False, -1, -1)\ncountLong:  (False, -1, -1)\ncountFloat:  (False, -1, -1)\ncountDouble:  (False, 1, 1)\n\n-------------   double[] line:  double[] dblArr = {1.1, 2.2, 3.3}   -------------\ncountInt:  (False, -1, -1)\ncountString:  (False, -1, -1)\ncountBoolean:  (False, -1, -1)\ncountChar:  (False, -1, -1)\ncountByte:  (False, -1, -1)\ncountShort:  (False, -1, -1)\ncountLong:  (False, -1, -1)\ncountFloat:  (False, -1, -1)\ncountDouble:  (True, 1, 1)\n\n"
     ]
    }
   ],
   "source": [
    "for line in lines:\n",
    "    print(\"-------------  \", line.split()[0], \"line: \", line, \"  -------------\")\n",
    "    print(\"countInt: \", countInt(line))\n",
    "    print(\"countString: \", countString(line))\n",
    "    print(\"countBoolean: \", countBoolean(line))\n",
    "    print(\"countChar: \", countChar(line))\n",
    "    print(\"countByte: \", countByte(line))\n",
    "    print(\"countShort: \", countShort(line))\n",
    "    print(\"countLong: \", countLong(line))\n",
    "    print(\"countFloat: \", countFloat(line))\n",
    "    print(\"countDouble: \", countDouble(line))\n",
    "    print(\"\")\n",
    "    counters[ line.split()[0] ] = tuple(map(sum,zip(counters[ line.split()[0] ], switch( line.split()[0], line)[1:])))"
   ]
  },
  {
   "cell_type": "code",
   "execution_count": 29,
   "metadata": {},
   "outputs": [
    {
     "output_type": "execute_result",
     "data": {
      "text/plain": [
       "{'int': (1, 4),\n",
       " 'int[]': (1, 1),\n",
       " 'String': (3, 1),\n",
       " 'String[]': (0, 1),\n",
       " 'boolean': (3, 1),\n",
       " 'boolean[]': (0, 1),\n",
       " 'char': (0, 1),\n",
       " 'char[]': (0, 1),\n",
       " 'byte': (0, 1),\n",
       " 'byte[]': (0, 1),\n",
       " 'short': (0, 1),\n",
       " 'short[]': (0, 1),\n",
       " 'long': (1, 1),\n",
       " 'long[]': (1, 1),\n",
       " 'float': (1, 1),\n",
       " 'float[]': (1, 1),\n",
       " 'double': (1, 1),\n",
       " 'double[]': (1, 1)}"
      ]
     },
     "metadata": {},
     "execution_count": 29
    }
   ],
   "source": [
    "counters"
   ]
  }
 ],
 "metadata": {
  "kernelspec": {
   "display_name": "Python 3.7.3 64-bit",
   "language": "python",
   "name": "python37364bit3bdd5c4e0d124a118b9ce7210f888a35"
  },
  "language_info": {
   "codemirror_mode": {
    "name": "ipython",
    "version": 3
   },
   "file_extension": ".py",
   "mimetype": "text/x-python",
   "name": "python",
   "nbconvert_exporter": "python",
   "pygments_lexer": "ipython3",
   "version": "3.7.3-final"
  }
 },
 "nbformat": 4,
 "nbformat_minor": 2
}