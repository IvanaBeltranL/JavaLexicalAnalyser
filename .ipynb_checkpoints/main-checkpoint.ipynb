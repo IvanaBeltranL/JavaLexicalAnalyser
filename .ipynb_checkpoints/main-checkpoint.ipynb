{
 "cells": [
  {
   "cell_type": "code",
   "execution_count": 36,
   "metadata": {},
   "outputs": [],
   "source": [
    "import re"
   ]
  },
  {
   "cell_type": "code",
   "execution_count": 125,
   "metadata": {},
   "outputs": [],
   "source": [
    "file = open(\"java-regex.txt\", \"r\")\n",
    "content = file.read()\n",
    "lines = content.split(';')\n",
    "file.close()"
   ]
  },
  {
   "cell_type": "code",
   "execution_count": 126,
   "metadata": {},
   "outputs": [
    {
     "name": "stdout",
     "output_type": "stream",
     "text": [
      "[' int a, b, c', ' int d = 20', ' int[] intArr = {1, 2, 3, 4, 1, 2, 3}', ' String str1, str2, str3', ' String str4 = \"Cadena 4\"', ' String[] strArr = {\"cd1\", \"cd2\", \"cd3\"}', ' boolean bl1, bl2, bl3', ' boolean bl4 = true', ' boolean[] blArr = {true, false, true}', \" char ch1 = 'A'\", \" char[] chArr = {'A', 'B', 'C'}\", ' byte byt1 = 127', ' byte[] bytArr = {1, 2, 3, 4, 1, 2, 3}', ' short shrt1 = 123', ' short[] shrtArr = {5, 6, 7, 8}', ' long lng1 = 1000000', ' long[] longArr = {10000, 20000, 30000, 40000}', ' float flt1 = 90', ' float[] floatArr = {10, 20, 30, 40}', ' double dbl1 = 10.10', ' double[] dblArr = {1.1, 2.2, 3.3}', '']\n"
     ]
    }
   ],
   "source": [
    "print(lines)"
   ]
  },
  {
   "cell_type": "code",
   "execution_count": 127,
   "metadata": {},
   "outputs": [
    {
     "data": {
      "text/plain": [
       "''"
      ]
     },
     "execution_count": 127,
     "metadata": {},
     "output_type": "execute_result"
    }
   ],
   "source": [
    "lines.pop()"
   ]
  },
  {
   "cell_type": "code",
   "execution_count": 128,
   "metadata": {},
   "outputs": [],
   "source": [
    "lines = [x.lstrip() for x in lines]"
   ]
  },
  {
   "cell_type": "code",
   "execution_count": 129,
   "metadata": {},
   "outputs": [
    {
     "data": {
      "text/plain": [
       "['int a, b, c',\n",
       " 'int d = 20',\n",
       " 'int[] intArr = {1, 2, 3, 4, 1, 2, 3}',\n",
       " 'String str1, str2, str3',\n",
       " 'String str4 = \"Cadena 4\"',\n",
       " 'String[] strArr = {\"cd1\", \"cd2\", \"cd3\"}',\n",
       " 'boolean bl1, bl2, bl3',\n",
       " 'boolean bl4 = true',\n",
       " 'boolean[] blArr = {true, false, true}',\n",
       " \"char ch1 = 'A'\",\n",
       " \"char[] chArr = {'A', 'B', 'C'}\",\n",
       " 'byte byt1 = 127',\n",
       " 'byte[] bytArr = {1, 2, 3, 4, 1, 2, 3}',\n",
       " 'short shrt1 = 123',\n",
       " 'short[] shrtArr = {5, 6, 7, 8}',\n",
       " 'long lng1 = 1000000',\n",
       " 'long[] longArr = {10000, 20000, 30000, 40000}',\n",
       " 'float flt1 = 90',\n",
       " 'float[] floatArr = {10, 20, 30, 40}',\n",
       " 'double dbl1 = 10.10',\n",
       " 'double[] dblArr = {1.1, 2.2, 3.3}']"
      ]
     },
     "execution_count": 129,
     "metadata": {},
     "output_type": "execute_result"
    }
   ],
   "source": [
    "lines"
   ]
  },
  {
   "cell_type": "code",
   "execution_count": 135,
   "metadata": {},
   "outputs": [],
   "source": [
    "counters = {\n",
    "    \"int\": (0,0),\n",
    "    \"int[]\": (0,0),\n",
    "    \"String\": (0,0),\n",
    "    \"String[]\": (0,0),\n",
    "    \"boolean\": (0,0),\n",
    "    \"boolean[]\": (0,0),\n",
    "    \"char\": (0,0),\n",
    "    \"char[]\": (0,0),\n",
    "    \"byte\": (0,0),\n",
    "    \"byte[]\": (0,0),\n",
    "    \"short\": (0,0),\n",
    "    \"short[]\": (0,0),\n",
    "    \"long\": (0,0),\n",
    "    \"long[]\": (0,0),\n",
    "    \"float\": (0,0),\n",
    "    \"float[]\": (0,0),\n",
    "    \"double\": (0,0),\n",
    "    \"double[]\": (0,0)\n",
    "}"
   ]
  },
  {
   "cell_type": "code",
   "execution_count": 113,
   "metadata": {},
   "outputs": [],
   "source": [
    "def countInt(line):\n",
    "    return len(line), len(line.split())"
   ]
  },
  {
   "cell_type": "code",
   "execution_count": 131,
   "metadata": {},
   "outputs": [],
   "source": [
    "def switch(label, line):\n",
    "    switcher={\n",
    "        \"int\": (lambda x: countInt(x))(line),\n",
    "        #\"int[]\": (lambda x: countIntArray(x))(line),\n",
    "        #\"String\": (lambda x: countString(x))(line),\n",
    "        #\"String[]\": (lambda x: countStringArray(x))(line),\n",
    "        #\"boolean\": (lambda x: countBoolean(x))(line),\n",
    "        #\"boolean[]\": (lambda x: countBooleanArray(x))(line),\n",
    "        #\"char\": (lambda x: countChar(x))(line),\n",
    "        #\"char[]\": (lambda x: countCharArray(x))(line),\n",
    "        #\"byte\": (lambda x: countByte(x))(line),\n",
    "        #\"byte[]\": (lambda x: countByteArray(x))(line),\n",
    "        #\"short\": (lambda x: countShort(x))(line),\n",
    "        #\"short[]\": (lambda x: countShortArray(x))(line),\n",
    "        #\"long\": (lambda x: countLong(x))(line),\n",
    "        #\"long[]\": (lambda x: countLongArray(x))(line),\n",
    "        #\"float\": (lambda x: countFloat(x))(line),\n",
    "        #\"float[]\": (lambda x: countFloatArray(x))(line),\n",
    "        #\"double\": (lambda x: countDouble(x))(line),\n",
    "        #\"double[]\": (lambda x: countDoubleArray(x))(line),\n",
    "        }\n",
    "    return switcher.get(label,(100, 100))"
   ]
  },
  {
   "cell_type": "code",
   "execution_count": 137,
   "metadata": {},
   "outputs": [
    {
     "name": "stdout",
     "output_type": "stream",
     "text": [
      "(11, 4)\n",
      "(10, 4)\n",
      "(100, 100)\n",
      "(100, 100)\n",
      "(100, 100)\n",
      "(100, 100)\n",
      "(100, 100)\n",
      "(100, 100)\n",
      "(100, 100)\n",
      "(100, 100)\n",
      "(100, 100)\n",
      "(100, 100)\n",
      "(100, 100)\n",
      "(100, 100)\n",
      "(100, 100)\n",
      "(100, 100)\n",
      "(100, 100)\n",
      "(100, 100)\n",
      "(100, 100)\n",
      "(100, 100)\n",
      "(100, 100)\n"
     ]
    }
   ],
   "source": [
    "for line in lines:\n",
    "    print( switch( line.split()[0], line ) )    \n",
    "    #counters[ line.split()[0] ] += switch( line.split()[0], line)\n",
    "    counters[ line.split()[0] ] = tuple(map(sum,zip(counters[ line.split()[0] ], switch( line.split()[0], line))))\n",
    "    #print(line.split()[0], line)"
   ]
  },
  {
   "cell_type": "code",
   "execution_count": 138,
   "metadata": {},
   "outputs": [
    {
     "data": {
      "text/plain": [
       "{'int': (21, 8),\n",
       " 'int[]': (100, 100),\n",
       " 'String': (200, 200),\n",
       " 'String[]': (100, 100),\n",
       " 'boolean': (200, 200),\n",
       " 'boolean[]': (100, 100),\n",
       " 'char': (100, 100),\n",
       " 'char[]': (100, 100),\n",
       " 'byte': (100, 100),\n",
       " 'byte[]': (100, 100),\n",
       " 'short': (100, 100),\n",
       " 'short[]': (100, 100),\n",
       " 'long': (100, 100),\n",
       " 'long[]': (100, 100),\n",
       " 'float': (100, 100),\n",
       " 'float[]': (100, 100),\n",
       " 'double': (100, 100),\n",
       " 'double[]': (100, 100)}"
      ]
     },
     "execution_count": 138,
     "metadata": {},
     "output_type": "execute_result"
    }
   ],
   "source": [
    "counters"
   ]
  }
 ],
 "metadata": {
  "kernelspec": {
   "display_name": "Python 3.7.3 64-bit",
   "language": "python",
   "name": "python37364bit3bdd5c4e0d124a118b9ce7210f888a35"
  },
  "language_info": {
   "codemirror_mode": {
    "name": "ipython",
    "version": 3
   },
   "file_extension": ".py",
   "mimetype": "text/x-python",
   "name": "python",
   "nbconvert_exporter": "python",
   "pygments_lexer": "ipython3",
   "version": "3.7.3"
  }
 },
 "nbformat": 4,
 "nbformat_minor": 2
}
